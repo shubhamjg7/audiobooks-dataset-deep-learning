{
 "cells": [
  {
   "cell_type": "markdown",
   "metadata": {},
   "source": [
    "# Importing libraries"
   ]
  },
  {
   "cell_type": "code",
   "execution_count": 1,
   "metadata": {},
   "outputs": [],
   "source": [
    "import numpy as np\n",
    "import tensorflow as tf"
   ]
  },
  {
   "cell_type": "markdown",
   "metadata": {},
   "source": [
    "# Loading data"
   ]
  },
  {
   "cell_type": "code",
   "execution_count": 2,
   "metadata": {},
   "outputs": [],
   "source": [
    "npz = np.load('AB_train.npz')\n",
    "train_inputs = npz['inputs'].astype(np.float)\n",
    "train_targets = npz['targets'].astype(np.int)\n",
    "\n",
    "npz = np.load('AB_validation.npz')\n",
    "validation_inputs = npz['inputs'].astype(np.float)\n",
    "validation_targets = npz['targets'].astype(np.int)\n",
    "\n",
    "npz = np.load('AB_test.npz')\n",
    "test_inputs = npz['inputs'].astype(np.float)\n",
    "test_targets = npz['targets'].astype(np.int)"
   ]
  },
  {
   "cell_type": "markdown",
   "metadata": {},
   "source": [
    "# Building model and training"
   ]
  },
  {
   "cell_type": "code",
   "execution_count": 3,
   "metadata": {},
   "outputs": [
    {
     "name": "stdout",
     "output_type": "stream",
     "text": [
      "Train on 3579 samples, validate on 447 samples\n",
      "Epoch 1/100\n",
      "3579/3579 - 1s - loss: 0.5404 - accuracy: 0.8005 - val_loss: 0.4296 - val_accuracy: 0.8546\n",
      "Epoch 2/100\n",
      "3579/3579 - 0s - loss: 0.3620 - accuracy: 0.8790 - val_loss: 0.3632 - val_accuracy: 0.8658\n",
      "Epoch 3/100\n",
      "3579/3579 - 0s - loss: 0.3138 - accuracy: 0.8860 - val_loss: 0.3406 - val_accuracy: 0.8725\n",
      "Epoch 4/100\n",
      "3579/3579 - 0s - loss: 0.2935 - accuracy: 0.8947 - val_loss: 0.3203 - val_accuracy: 0.8792\n",
      "Epoch 5/100\n",
      "3579/3579 - 0s - loss: 0.2798 - accuracy: 0.8994 - val_loss: 0.3104 - val_accuracy: 0.8792\n",
      "Epoch 6/100\n",
      "3579/3579 - 0s - loss: 0.2707 - accuracy: 0.9003 - val_loss: 0.2979 - val_accuracy: 0.8859\n",
      "Epoch 7/100\n",
      "3579/3579 - 0s - loss: 0.2624 - accuracy: 0.9028 - val_loss: 0.2927 - val_accuracy: 0.8904\n",
      "Epoch 8/100\n",
      "3579/3579 - 0s - loss: 0.2556 - accuracy: 0.9053 - val_loss: 0.2852 - val_accuracy: 0.8949\n",
      "Epoch 9/100\n",
      "3579/3579 - 0s - loss: 0.2514 - accuracy: 0.9092 - val_loss: 0.2869 - val_accuracy: 0.8949\n",
      "Epoch 10/100\n",
      "3579/3579 - 0s - loss: 0.2476 - accuracy: 0.9084 - val_loss: 0.2829 - val_accuracy: 0.9016\n",
      "Epoch 11/100\n",
      "3579/3579 - 0s - loss: 0.2434 - accuracy: 0.9086 - val_loss: 0.2743 - val_accuracy: 0.8993\n",
      "Epoch 12/100\n",
      "3579/3579 - 0s - loss: 0.2422 - accuracy: 0.9100 - val_loss: 0.2743 - val_accuracy: 0.9016\n",
      "Epoch 13/100\n",
      "3579/3579 - 0s - loss: 0.2399 - accuracy: 0.9109 - val_loss: 0.2716 - val_accuracy: 0.8993\n",
      "Epoch 14/100\n",
      "3579/3579 - 0s - loss: 0.2372 - accuracy: 0.9123 - val_loss: 0.2669 - val_accuracy: 0.9038\n",
      "Epoch 15/100\n",
      "3579/3579 - 0s - loss: 0.2362 - accuracy: 0.9139 - val_loss: 0.2661 - val_accuracy: 0.9038\n",
      "Epoch 16/100\n",
      "3579/3579 - 0s - loss: 0.2351 - accuracy: 0.9134 - val_loss: 0.2705 - val_accuracy: 0.9016\n",
      "Epoch 17/100\n",
      "3579/3579 - 0s - loss: 0.2367 - accuracy: 0.9131 - val_loss: 0.2661 - val_accuracy: 0.9038\n",
      "Epoch 18/100\n",
      "3579/3579 - 0s - loss: 0.2325 - accuracy: 0.9145 - val_loss: 0.2671 - val_accuracy: 0.9038\n",
      "Epoch 19/100\n",
      "3579/3579 - 0s - loss: 0.2305 - accuracy: 0.9153 - val_loss: 0.2667 - val_accuracy: 0.9038\n"
     ]
    },
    {
     "data": {
      "text/plain": [
       "<tensorflow.python.keras.callbacks.History at 0x257264a7848>"
      ]
     },
     "execution_count": 3,
     "metadata": {},
     "output_type": "execute_result"
    }
   ],
   "source": [
    "input_size = 10\n",
    "output_size = 2\n",
    "hidden_layer_size = 50 # Need to experiment and decide value\n",
    "patience = 2\n",
    "\n",
    "early_stopping = tf.keras.callbacks.EarlyStopping(patience=patience) # This will monitor validation loss and stop training the first time validation loss increases\n",
    "\n",
    "model = tf.keras.Sequential([\n",
    "    tf.keras.layers.Dense(hidden_layer_size, activation='relu'),\n",
    "    tf.keras.layers.Dense(hidden_layer_size, activation='relu'),\n",
    "    tf.keras.layers.Dense(output_size, activation='softmax')\n",
    "])\n",
    "\n",
    "model.compile(optimizer='adam', loss='sparse_categorical_crossentropy', metrics=['accuracy']) # sparse_categorical_crossentropy for one hot encoding\n",
    "\n",
    "batch_size = 100\n",
    "max_epochs = 100\n",
    "\n",
    "model.fit(train_inputs, train_targets, batch_size=batch_size, epochs=max_epochs,\n",
    "         validation_data=(validation_inputs, validation_targets), \n",
    "          callbacks=[early_stopping],\n",
    "          verbose=2)"
   ]
  },
  {
   "cell_type": "markdown",
   "metadata": {},
   "source": [
    "We've managed to get a validation accuracy of 90%."
   ]
  },
  {
   "cell_type": "markdown",
   "metadata": {},
   "source": [
    "# Testing model"
   ]
  },
  {
   "cell_type": "code",
   "execution_count": 4,
   "metadata": {},
   "outputs": [
    {
     "name": "stdout",
     "output_type": "stream",
     "text": [
      "448/448 [==============================] - 0s 403us/sample - loss: 0.2491 - accuracy: 0.8951\n",
      "0.24909172632864543 0.89508927\n"
     ]
    }
   ],
   "source": [
    "test_loss, test_accuracy = model.evaluate(test_inputs, test_targets)\n",
    "print(test_loss, test_accuracy)"
   ]
  },
  {
   "cell_type": "markdown",
   "metadata": {},
   "source": [
    "Testing accuracy is 89%. \n",
    "\n",
    "Once tested we are no longer allowed to train the same model before re-compiling. This is because our model has now seen the test dataset."
   ]
  }
 ],
 "metadata": {
  "kernelspec": {
   "display_name": "Python_3_TF_2.0",
   "language": "python",
   "name": "python_3_tf_2.0"
  },
  "language_info": {
   "codemirror_mode": {
    "name": "ipython",
    "version": 3
   },
   "file_extension": ".py",
   "mimetype": "text/x-python",
   "name": "python",
   "nbconvert_exporter": "python",
   "pygments_lexer": "ipython3",
   "version": "3.7.7"
  }
 },
 "nbformat": 4,
 "nbformat_minor": 4
}
